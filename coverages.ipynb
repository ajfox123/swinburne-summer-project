{
 "cells": [
  {
   "cell_type": "code",
   "execution_count": null,
   "metadata": {},
   "outputs": [],
   "source": [
    "import os\n",
    "import pandas as pd\n",
    "pd.set_option('display.max_columns', 32)\n",
    "pd.set_option('display.max_rows', 6)\n",
    "import matplotlib.pyplot as plt\n",
    "from matplotlib.pyplot import cm\n",
    "import healpy as hp\n",
    "import numpy as np\n",
    "from glob import glob\n",
    "import itertools\n",
    "import re\n",
    "\n",
    "from vasttools.moc import VASTMOCS\n",
    "from vasttools.pipeline import Pipeline\n",
    "\n",
    "from mocpy import World2ScreenMPL, MOC\n",
    "from astropy import units as u\n",
    "from astropy.wcs import WCS\n",
    "from astropy.visualization.wcsaxes.frame import EllipticalFrame\n",
    "from astropy.coordinates import Angle, SkyCoord\n",
    "from ligo.skymap.io import read_sky_map\n",
    "from ligo.skymap.postprocess import find_greedy_credible_levels\n",
    "from astropy.io import fits\n",
    "\n",
    "'''GWTC1/2/3 skymaps obtained from:\n",
    "https://dcc.ligo.org/LIGO-P1800381/public\n",
    "https://dcc.ligo.org/LIGO-P2000223/public\n",
    "https://zenodo.org/record/5546663#.YgNiR-pBwUE\n",
    "respectively'''"
   ]
  },
  {
   "cell_type": "code",
   "execution_count": null,
   "metadata": {},
   "outputs": [],
   "source": [
    "!pip install lxml"
   ]
  },
  {
   "cell_type": "code",
   "execution_count": null,
   "metadata": {},
   "outputs": [],
   "source": [
    "vast_mocs= VASTMOCS()\n",
    "vast_footprint = vast_mocs.load_pilot_epoch_moc('1')\n",
    "\n",
    "def plot_moc(moc, name, cutoff, with_vast=False, savefig=False):\n",
    "    fig = plt.figure(figsize=(24, 12), facecolor='white')\n",
    "    \n",
    "    with World2ScreenMPL(fig, \n",
    "                         fov=324 * u.deg,\n",
    "                         center=SkyCoord(0, 0, unit='deg', frame='icrs'),\n",
    "                         coordsys=\"icrs\",\n",
    "                         rotation=Angle(0, u.degree),\n",
    "                         projection=\"AIT\") as wcs:\n",
    "        ax = fig.add_subplot(111, projection=wcs, frame_class=EllipticalFrame)\n",
    "        ax.set_title(f\"{name} Coverage with VAST\")\n",
    "        ax.grid(color=\"black\", linestyle=\"dotted\")\n",
    "        \n",
    "        if with_vast:\n",
    "            vast_footprint.fill(ax=ax, wcs=wcs, alpha=0.9, fill=True, linewidth=0, color=\"#00bb00\", label='VAST Footprint', zorder = 0)\n",
    "            vast_footprint.border(ax=ax, wcs=wcs, alpha=0.5, color=\"black\")\n",
    "        \n",
    "        moc.fill(ax=ax, wcs=wcs, alpha=0.9, fill=True, linewidth=0, color=\"red\", label=f\"{name} {cutoff} probability area\", zorder = 1)\n",
    "        moc.border(ax=ax, wcs=wcs, alpha=0.5, color=\"black\")\n",
    "        \n",
    "        ax.legend()\n",
    "    plt.show()\n",
    "    plt.close()\n",
    "    cutoff = str(cutoff).replace(\".\", \"-\")\n",
    "    if savefig:\n",
    "        fig_name = f\"{name}_{cutoff}\"\n",
    "        if os.path.exists(fig_name+'.png'):\n",
    "            fig_name += '_(1)'\n",
    "        fig.savefig(fig_name+'.png', facecolor=fig.get_facecolor())"
   ]
  },
  {
   "cell_type": "code",
   "execution_count": null,
   "metadata": {},
   "outputs": [],
   "source": [
    "def process_event(skymap,\n",
    "                  event_name,\n",
    "                  cutoffs,\n",
    "                  plot=False,\n",
    "                  moc=None,\n",
    "                  with_vast=True,\n",
    "                  savefig=False,\n",
    "                  save_significant=True\n",
    "                 ):\n",
    "    coverages = []\n",
    "    areas = []\n",
    "    \n",
    "    for cutoff in cutoffs:\n",
    "        skymap = hp.ud_grade(skymap, coverage_NSIDE, order_in='NESTED', power=-2)\n",
    "        nside = hp.get_nside(skymap)\n",
    "        credible_levels = find_greedy_credible_levels(skymap)\n",
    "        idx = np.where(credible_levels < cutoff)[0]\n",
    "        overlap = skymap[idx] * coverage_map[idx]\n",
    "        coverage = np.sum(overlap)\n",
    "        area = np.sum(credible_levels[np.where(overlap)]) * hp.nside2pixarea(nside, degrees=True)\n",
    "            \n",
    "        coverages.append(coverage)\n",
    "        areas.append(area)\n",
    "\n",
    "        if save_significant and coverage >= 0.5:\n",
    "            level = np.log2(nside)\n",
    "            levels = np.ones(len(idx)) * level\n",
    "            # Significant coverage\n",
    "            if not moc:\n",
    "                moc = MOC.from_healpix_cells(idx, depth=levels)\n",
    "            plot_moc(moc, event_name, cutoff, with_vast, savefig=True)\n",
    "\n",
    "        elif plot:\n",
    "            level = np.log2(nside)\n",
    "            levels = np.ones(len(idx)) * level\n",
    "            if not moc:\n",
    "                moc = MOC.from_healpix_cells(idx, depth=levels)\n",
    "            plot_moc(moc, event_name, cutoff, with_vast, savefig)\n",
    "    return coverages, areas, moc"
   ]
  },
  {
   "cell_type": "code",
   "execution_count": null,
   "metadata": {},
   "outputs": [],
   "source": [
    "def plot_all_covered(\n",
    "    skymap,\n",
    "    event_name,\n",
    "    with_vast=True,\n",
    "    savefig=False,\n",
    "    save_significant=True\n",
    "    ):\n",
    "\n",
    "    skymap = hp.ud_grade(skymap, coverage_NSIDE, order_in='NESTED', power=-2)\n",
    "    nside = hp.get_nside(skymap)\n",
    "    credible_levels = find_greedy_credible_levels(skymap)\n",
    "    idx = np.where(credible_levels < cutoff)[0]\n",
    "    level = np.log2(nside)\n",
    "    levels = np.ones(len(idx)) * level\n",
    "    moc = MOC.from_healpix_cells(idx, depth=levels)\n",
    "    plot_moc(moc, event_name, cutoff, with_vast, savefig)\n",
    "    return moc"
   ]
  },
  {
   "cell_type": "code",
   "execution_count": null,
   "metadata": {
    "tags": []
   },
   "outputs": [],
   "source": [
    "footprint_file = 'full_VAST_footprint_1024.fits'\n",
    "coverage_map = hp.read_map(footprint_file, nest=True)\n",
    "coverage_NPIX= len(coverage_map)\n",
    "coverage_NSIDE = hp.npix2nside(coverage_NPIX)\n",
    "hp.mollview(coverage_map, nest=True)"
   ]
  },
  {
   "cell_type": "code",
   "execution_count": null,
   "metadata": {},
   "outputs": [],
   "source": [
    "%matplotlib inline\n",
    "data = []\n",
    "cutoffs = [0.9]\n",
    "\n",
    "cutoff_header = [str(int(x*100))+\"_percent_coverage\" for x in cutoffs]\n",
    "area_header = [str(int(x*100))+\"_percent_area\" for x in cutoffs]\n",
    "columns = ['Event'] + [x for x in itertools.chain.from_iterable(zip(cutoff_header, area_header))]\n",
    "\n",
    "files = glob('./GWTC1/*') + glob('./GWTC2/*PublicationSamples.fits') + glob('./GWTC3/*Mixed.fits')"
   ]
  },
  {
   "cell_type": "code",
   "execution_count": null,
   "metadata": {
    "tags": []
   },
   "outputs": [],
   "source": [
    "for i, f in enumerate(files[:]):\n",
    "    event_name = re.findall(\"(GW[0-9]{6}_[0-9]{6}|GW[0-9]{6})\", f)[0]\n",
    "    skymap, history = read_sky_map(f, nest=True)\n",
    "#     hp.mollview(skymap, nest=True)\n",
    "    coverages, areas = process_event(skymap, event_name, cutoffs, plot=True, savefig=False, save_significant=False)\n",
    "    result = [event_name] + [x for x in itertools.chain.from_iterable(zip(coverages, areas))]\n",
    "    data.append(result)\n",
    "    print(f\"{i+1}/{len(files)}: {result}\")\n",
    "\n",
    "df = pd.DataFrame(data, columns=columns).sort_values('90_percent_coverage', ascending=False)\n",
    "df.to_csv('coverages.csv', index=False)"
   ]
  },
  {
   "cell_type": "code",
   "execution_count": null,
   "metadata": {},
   "outputs": [],
   "source": [
    "# Plots GW events with >0.5 pdf coverage over VAST footprint\n",
    "%matplotlib inline\n",
    "df = pd.read_csv('coverages.csv')\n",
    "well_covered = df[df['90_percent_coverage'] >= 0.5]\n",
    "well_covered\n",
    "\n",
    "union_skymap = None\n",
    "\n",
    "mocs = []\n",
    "for i, f in enumerate(files[:]):\n",
    "    event_name = re.findall(\"(GW[0-9]{6}_[0-9]{6}|GW[0-9]{6})\", f)[0]\n",
    "    if event_name in well_covered['Event'].values:\n",
    "        print(event_name)\n",
    "        skymap, history = read_sky_map(f, nest=True)\n",
    "        skymap = hp.ud_grade(skymap, coverage_NSIDE, order_in='NESTED', power=-2)\n",
    "        nside = hp.get_nside(skymap)\n",
    "        credible_levels = find_greedy_credible_levels(skymap)\n",
    "        idx = np.where(credible_levels < 0.9)[0]\n",
    "        level = np.log2(nside)\n",
    "        levels = np.ones(len(idx)) * level\n",
    "        moc = MOC.from_healpix_cells(idx, depth=levels)\n",
    "        mocs.append((event_name, moc))"
   ]
  },
  {
   "cell_type": "code",
   "execution_count": null,
   "metadata": {},
   "outputs": [],
   "source": [
    "fig = plt.figure(figsize=(24, 12), facecolor='white')\n",
    "\n",
    "with World2ScreenMPL(fig, \n",
    "                     fov=324 * u.deg,\n",
    "                     center=SkyCoord(0, 0, unit='deg', frame='icrs'),\n",
    "                     coordsys=\"icrs\",\n",
    "                     rotation=Angle(0, u.degree),\n",
    "                     projection=\"AIT\") as wcs:\n",
    "    ax = fig.add_subplot(111, projection=wcs, frame_class=EllipticalFrame)\n",
    "    ax.set_title(f\"Coverage with VAST\")\n",
    "    ax.grid(color=\"black\", linestyle=\"dotted\")\n",
    "\n",
    "    vast_footprint.fill(ax=ax, wcs=wcs, alpha=0.2, fill=True, linewidth=0, color=\"#00bb00\", label='VAST Footprint', zorder = 0)\n",
    "    vast_footprint.border(ax=ax, wcs=wcs, alpha=0.8, color=\"black\")\n",
    "\n",
    "    color = cm.rainbow(np.linspace(0, 1, len(mocs)))\n",
    "\n",
    "    for ((name, moc), i) in zip(mocs, color):\n",
    "        moc.fill(ax=ax, wcs=wcs, alpha=0.5, fill=True, linewidth=0, color=i, label=name)\n",
    "        moc.border(ax=ax, wcs=wcs, alpha=0.9, color='black')\n",
    "    plt.tight_layout()\n",
    "    ax.legend()\n",
    "\n",
    "plt.savefig('significant_coverages.png', dpi=200)"
   ]
  },
  {
   "cell_type": "markdown",
   "metadata": {},
   "source": [
    "# AMON Coverages"
   ]
  },
  {
   "cell_type": "code",
   "execution_count": null,
   "metadata": {
    "scrolled": true,
    "tags": []
   },
   "outputs": [],
   "source": [
    "pages = [\n",
    "    'https://gcn.gsfc.nasa.gov/amon_icecube_gold_bronze_events.html',\n",
    "#     'https://gcn.gsfc.nasa.gov/amon_hawc_events.html',\n",
    "#     'https://gcn.gsfc.nasa.gov/amon_nu_em_coinc_events.html',\n",
    "#     'https://gcn.gsfc.nasa.gov/amon_icecube_cascade_events.html'\n",
    "]\n",
    "\n",
    "cols = ['RunNum_EventNum', 'Rev', 'RA [deg]', 'RA', 'Dec [deg]', 'Dec', 'Error90 [arcmin]', 'Error90', 'Error50 [arcmin]', 'Error50', 'Error']\n",
    "\n",
    "NSIDE=2**10\n",
    "NPIX= hp.nside2npix(NSIDE)\n",
    "# Takes a while to run this line ~2 minute\n",
    "#lon, lat = zip(*map(lambda x: hp.pix2ang(NSIDE, x, nest=True, lonlat=True), range(NPIX)))"
   ]
  },
  {
   "cell_type": "code",
   "execution_count": null,
   "metadata": {
    "scrolled": true,
    "tags": []
   },
   "outputs": [],
   "source": [
    "%matplotlib inline\n",
    "data = []\n",
    "cutoffs = [0.9]\n",
    "\n",
    "cutoff_header = [str(int(x*100))+\"_percent_coverage\" for x in cutoffs]\n",
    "area_header = [str(int(x*100))+\"_percent_area\" for x in cutoffs]\n",
    "columns = ['Event'] + [x for x in itertools.chain.from_iterable(zip(cutoff_header, area_header))]\n",
    "\n",
    "for page in pages:\n",
    "    df = pd.read_html(page)[0]\n",
    "    df.columns = df.columns.droplevel()\n",
    "    events = df[df.columns.intersection(cols)]\n",
    "    display(events)\n",
    "    \n",
    "for idx, event in enumerate(events.iterrows()):\n",
    "    event_name = event[1].RunNum_EventNum\n",
    "\n",
    "    m_90 = MOC.from_cone(event[1]['RA [deg]']*u.deg,\n",
    "                         event[1]['Dec [deg]']*u.deg,\n",
    "                         event[1]['Error90 [arcmin]']*u.arcmin,\n",
    "                         10)\n",
    "#     m_50 = MOC.from_cone(event[1]['RA [deg]']*u.deg,\n",
    "#                          event[1]['Dec [deg]']*u.deg,\n",
    "#                          event[1]['Error50 [arcmin]']*u.arcmin,\n",
    "#                          10)\n",
    "\n",
    "    no_overlap = MOC.empty(vast_footprint.intersection(m_90)) \n",
    "    coverages, areas = [0.0], [0.0]\n",
    "    if not no_overlap:\n",
    "        moc_hp = m_90.contains(lon*u.deg, lat*u.deg)\n",
    "        hp_map = np.where(moc_hp, 1, 0)\n",
    "        coverages, areas = process_event(hp_map, event_name, cutoffs, percent_covered=True, plot=False, moc=m_90, savefig=False, save_significant=False)\n",
    "    result = [event_name] + [x for x in itertools.chain.from_iterable(zip(coverages, areas))]\n",
    "    data.append(result)\n",
    "    print(f\"{idx+1}/{events.shape[0]}\")\n",
    "\n",
    "df = pd.DataFrame(data, columns=columns).sort_values('90_percent_coverage', ascending=False)\n",
    "df.to_csv('amon_coverages.csv', index=False)"
   ]
  },
  {
   "cell_type": "code",
   "execution_count": null,
   "metadata": {},
   "outputs": [],
   "source": [
    "for page in pages:\n",
    "    df = pd.read_html(page)[0]\n",
    "    df.columns = df.columns.droplevel()\n",
    "    events = df[df.columns.intersection(cols)]\n",
    "    display(events)"
   ]
  },
  {
   "cell_type": "code",
   "execution_count": null,
   "metadata": {},
   "outputs": [],
   "source": [
    "revs = list(set(events[events.Rev == 0].RunNum_EventNum.values))\n",
    "len(revs)"
   ]
  },
  {
   "cell_type": "code",
   "execution_count": null,
   "metadata": {},
   "outputs": [],
   "source": [
    "rev_events = events[((events.RunNum_EventNum.isin(revs)) & (events.Rev == 0) | (~events.RunNum_EventNum.isin(revs)))].reset_index(drop=True)\n",
    "rev_events"
   ]
  },
  {
   "cell_type": "code",
   "execution_count": null,
   "metadata": {},
   "outputs": [],
   "source": [
    "folder = 'AMON'\n",
    "for idx, event in enumerate(rev_events.iterrows()):\n",
    "    event_name = event[1].RunNum_EventNum\n",
    "\n",
    "    m_90 = MOC.from_cone(event[1]['RA [deg]']*u.deg,\n",
    "                         event[1]['Dec [deg]']*u.deg,\n",
    "                         event[1]['Error90 [arcmin]']*u.arcmin,\n",
    "                         10)\n",
    "\n",
    "    no_overlap = MOC.empty(vast_footprint.intersection(m_90)) \n",
    "    \n",
    "    if not no_overlap:\n",
    "        m_90.write(os.path.join(folder, event_name+'.fits'))"
   ]
  },
  {
   "cell_type": "code",
   "execution_count": null,
   "metadata": {},
   "outputs": [],
   "source": []
  }
 ],
 "metadata": {
  "kernelspec": {
   "display_name": "Python 3 (ipykernel)",
   "language": "python",
   "name": "python3"
  },
  "language_info": {
   "codemirror_mode": {
    "name": "ipython",
    "version": 3
   },
   "file_extension": ".py",
   "mimetype": "text/x-python",
   "name": "python",
   "nbconvert_exporter": "python",
   "pygments_lexer": "ipython3",
   "version": "3.9.5"
  }
 },
 "nbformat": 4,
 "nbformat_minor": 4
}
