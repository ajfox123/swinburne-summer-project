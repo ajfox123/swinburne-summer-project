{
 "cells": [
  {
   "cell_type": "code",
   "execution_count": null,
   "metadata": {},
   "outputs": [],
   "source": [
    "import os\n",
    "import sys\n",
    "\n",
    "try:\n",
    "    import ipywidgets\n",
    "except:\n",
    "    !{sys.executable} -m pip install ipywidgets\n",
    "    \n",
    "from ipywidgets import Button, HBox #<----- Add HBox for displaying multiple buttons\n",
    "import pandas as pd\n",
    "pd.set_option('display.max_columns', 51)\n",
    "pd.set_option('display.max_rows', 5)\n",
    "pd.options.mode.chained_assignment = None  # default='warn'\n",
    "from glob import glob\n",
    "import requests\n",
    "import itertools\n",
    "import numpy as np\n",
    "import matplotlib.pyplot as plt\n",
    "import re\n",
    "import math\n",
    "import importlib\n",
    "from bokeh.io import output_notebook\n",
    "from bokeh.plotting import show\n",
    "from io import BytesIO\n",
    "\n",
    "from astropy.visualization.wcsaxes.frame import EllipticalFrame\n",
    "from astropy.coordinates import Angle, SkyCoord\n",
    "from astropy import units as u\n",
    "from mocpy import World2ScreenMPL, MOC\n",
    "import healpy as hp\n",
    "from ligo.skymap.io import read_sky_map\n",
    "from ligo.skymap.postprocess import find_greedy_credible_levels\n",
    "\n",
    "from vasttools.pipeline import Pipeline\n",
    "from vasttools.moc import VASTMOCS\n",
    "from vasttools.tools import add_credible_levels, find_in_moc, skymap2moc\n",
    "import annotator\n",
    "\n",
    "from IPython.display import display\n",
    "%matplotlib inline\n",
    "output_notebook()\n",
    "\n",
    "!jupyter nbextension enable --py widgetsnbextension"
   ]
  },
  {
   "cell_type": "code",
   "execution_count": null,
   "metadata": {},
   "outputs": [],
   "source": [
    "pipe = Pipeline()\n",
    "piperun = pipe.load_run('combined')\n",
    "query = (\n",
    "    \"n_measurements > 1 \"\n",
    "    \"& n_neighbour_dist > 1/60. \"\n",
    "    \"& avg_compactness < 1.5 \"\n",
    "    \"& n_relations == 0 \"\n",
    "    \"& n_siblings == 0\"\n",
    "    \"& n_selavy >= 2\"\n",
    "    \"& avg_flux_int/avg_flux_peak < 1.5\" \n",
    "    \"& v_peak >= 0\"\n",
    "    \"& max_snr > 7\")\n",
    "sources = piperun.sources.query(query)\n",
    "display(sources)"
   ]
  },
  {
   "cell_type": "code",
   "execution_count": null,
   "metadata": {},
   "outputs": [],
   "source": [
    "eta_cutoff, v_cutoff, interest, plot = piperun.run_eta_v_analysis(2, 2, df=sources)\n",
    "print(eta_cutoff, v_cutoff)"
   ]
  },
  {
   "cell_type": "code",
   "execution_count": null,
   "metadata": {},
   "outputs": [],
   "source": [
    "meas = piperun.measurements\n",
    "meas = meas[meas['forced'] == False]\n",
    "grouped_meas = meas.groupby('source')\n",
    "min_time_df = grouped_meas.agg({'time': 'min'})\n",
    "display(min_time_df)"
   ]
  },
  {
   "cell_type": "code",
   "execution_count": null,
   "metadata": {},
   "outputs": [],
   "source": [
    "def name_to_time(name):\n",
    "    name = name.lstrip('GW').split('_')\n",
    "    if len(name) == 1:\n",
    "        return pd.to_datetime(name[0], format='%y%m%d').to_datetime64()\n",
    "    return pd.to_datetime(name[0] + name[1], format='%y%m%d%H%M%S').to_datetime64()"
   ]
  },
  {
   "cell_type": "code",
   "execution_count": null,
   "metadata": {},
   "outputs": [],
   "source": [
    "def show_interesting_sources(interest, event_time=0, save_fig=False):\n",
    "    for source in interest.index[:]:\n",
    "        print(source)\n",
    "        my_source = piperun.get_source(source)\n",
    "        #display(my_source.ned_search())\n",
    "        a = my_source.plot_lightcurve(start_date=pd.Timestamp(event_time), save=save_fig)\n",
    "        ax = a.gca()\n",
    "        ax.set_xscale('log')\n",
    "        ax.set_yscale('log')\n",
    "        ax.set_ylim(bottom=0.1)\n",
    "        b = my_source.show_all_png_cutouts(size=Angle(2*u.arcmin))\n",
    "        plt.show()\n",
    "        plt.close(fig='all')"
   ]
  },
  {
   "cell_type": "code",
   "execution_count": null,
   "metadata": {
    "scrolled": true,
    "tags": []
   },
   "outputs": [],
   "source": [
    "footprint_file = 'full_VAST_footprint_1024.fits'\n",
    "coverage_map = hp.read_map(footprint_file, nest=True)\n",
    "coverage_NPIX= len(coverage_map)\n",
    "coverage_NSIDE = hp.npix2nside(coverage_NPIX)\n",
    "\n",
    "cutoff = 0.9\n",
    "coverages = pd.read_csv('coverages.csv')\n",
    "files = glob('./GWTC1/*') + glob('./GWTC2/*PublicationSamples.fits') + glob('./GWTC3/*Mixed.fits')    "
   ]
  },
  {
   "cell_type": "code",
   "execution_count": null,
   "metadata": {
    "scrolled": true,
    "tags": []
   },
   "outputs": [],
   "source": [
    "%matplotlib inline\n",
    "\n",
    "if not os.path.isfile('gw_event_sources.csv'):\n",
    "    full_df = pd.DataFrame()\n",
    "    for idx, f in enumerate(files[:]):\n",
    "        event_name = re.findall(\"(GW[0-9]{6}_[0-9]{6}|GW[0-9]{6})\", f)[0]\n",
    "        print(f'{event_name}: {idx+1}/{len(files)}')\n",
    "        if coverages[coverages['Event'] == event_name]['90_percent_coverage'].values[0] == 0:\n",
    "            continue\n",
    "\n",
    "        event_time = name_to_time(event_name)   \n",
    "        skymap, history = read_sky_map(f, nest=True)\n",
    "        skymap = hp.ud_grade(skymap, coverage_NSIDE, order_in='NESTED', power=-2)\n",
    "        nside = hp.get_nside(skymap)\n",
    "        level = np.log2(nside)\n",
    "        credible_levels = find_greedy_credible_levels(skymap)\n",
    "        idx = np.where(credible_levels < cutoff)[0]\n",
    "        levels = np.ones(len(idx)) * level\n",
    "        moc = MOC.from_healpix_cells(idx, depth=levels)\n",
    "        sources_in_moc = sources.iloc[find_in_moc(moc, sources)]\n",
    "\n",
    "    #     theta = 0.5 * np.pi - np.deg2rad(sources_in_moc['wavg_dec'].values)\n",
    "    #     phi = np.deg2rad(sources_in_moc['wavg_ra'].values)\n",
    "    #     ipix = hp.ang2pix(nside, theta, phi, nest=True)\n",
    "    #     sources_in_moc.loc[:, 'credible_level'] = credible_levels[ipix]\n",
    "    #     sources_in_moc = sources_in_moc.sort_values('credible_level', ascending=True)\n",
    "\n",
    "        sources_after_event = min_time_df[min_time_df['time'] >= event_time].source.values\n",
    "        possible_sources = sources_in_moc[\n",
    "            (sources_in_moc.index.isin(sources_after_event))\n",
    "            & (sources_in_moc.index.isin(interest.index.values))]\n",
    "\n",
    "        if not possible_sources.empty:\n",
    "            df = possible_sources[['wavg_ra', 'wavg_dec', 'v_peak', 'eta_peak','min_snr','max_snr']]\n",
    "            df['link'] = df.apply(lambda row: \"https://dev.pipeline.vast-survey.org/sources/\"+str(row.name), axis = 1)\n",
    "            df['event'] = event_name\n",
    "\n",
    "            if full_df.empty:\n",
    "                full_df = df\n",
    "            else:\n",
    "                full_df = full_df.append(df)\n",
    "    #     show_interesting_sources(possible_sources, event_time)\n",
    "    full_df.to_csv('gw_event_sources.csv', index_label='id')\n",
    "full_df = pd.read_csv('gw_event_sources.csv', index_col='id')\n",
    "full_df"
   ]
  },
  {
   "cell_type": "code",
   "execution_count": null,
   "metadata": {},
   "outputs": [],
   "source": [
    "mocs = VASTMOCS()\n",
    "def plot_sources(sources):\n",
    "    fig = plt.figure(figsize=(24,12))\n",
    "\n",
    "    epoch1_moc = mocs.load_pilot_epoch_moc('1')\n",
    "    # \n",
    "    with World2ScreenMPL(\n",
    "        fig,\n",
    "        fov=320 * u.deg,\n",
    "        center=SkyCoord(0, 0, unit='deg', frame='icrs'),\n",
    "        coordsys=\"icrs\",\n",
    "        rotation=Angle(0, u.degree),\n",
    "    ) as wcs:\n",
    "        ax = fig.add_subplot(111, projection=wcs, frame_class=EllipticalFrame)\n",
    "        ax.set_title(\"Event Sources\")\n",
    "        ax.grid(color=\"black\", linestyle=\"dotted\")\n",
    "        epoch1_moc.fill(ax=ax, wcs=wcs, alpha=0.5, fill=True, linewidth=0, color=\"#00bb00\")\n",
    "        epoch1_moc.border(ax=ax, wcs=wcs, alpha=0.5, color=\"black\")\n",
    "        ax.scatter(\n",
    "            sources['wavg_ra']*u.deg, \n",
    "            sources['wavg_dec']*u.deg, \n",
    "            transform=ax.get_transform('world'),\n",
    "            zorder=10,\n",
    "            s=2\n",
    "        )\n",
    "    plt.show()\n",
    "    plt.close()"
   ]
  },
  {
   "cell_type": "markdown",
   "metadata": {},
   "source": [
    "# AMON"
   ]
  },
  {
   "cell_type": "code",
   "execution_count": null,
   "metadata": {
    "scrolled": true,
    "tags": []
   },
   "outputs": [],
   "source": [
    "# %matplotlib inline\n",
    "# for f in glob(f\"AMON/*.fits\")[:]:\n",
    "#     print(f)\n",
    "#     moc = MOC.from_fits(f)\n",
    "#     idx = find_in_moc(moc, sources, pipe=True)\n",
    "#     sources_in_moc = sources.iloc[idx]\n",
    "#     display(sources_in_moc)\n",
    "#     show_interesting_sources(sources_in_moc)"
   ]
  },
  {
   "cell_type": "code",
   "execution_count": null,
   "metadata": {},
   "outputs": [],
   "source": [
    "candidates = full_df[~full_df.index.duplicated(keep='first')]\n",
    "candidates"
   ]
  },
  {
   "cell_type": "code",
   "execution_count": null,
   "metadata": {
    "scrolled": true,
    "tags": []
   },
   "outputs": [],
   "source": [
    "%matplotlib inline\n",
    "\n",
    "## Create pngs\n",
    "create_pngs = True\n",
    "\n",
    "out_dir = 'gw_search'\n",
    "source_df = candidates\n",
    "\n",
    "if not os.path.isdir('gw_search'):\n",
    "    for idx, (i, source) in enumerate(source_df.iterrows()):\n",
    "        print(f'{idx+1}/{source_df.shape[0]}')\n",
    "        source_name = annotator.get_source_name(source).replace(' ','_')\n",
    "        candidate_source = piperun.get_source(i)\n",
    "        event_time = name_to_time(source.event)\n",
    "        if create_pngs:\n",
    "            candidate_source.plot_lightcurve(save=True, start_date=pd.Timestamp(event_time), outfile='{}/{}_lc.png'.format(out_dir,source_name), figsize=(4,2), hide_legend=True, plot_dpi=100)\n",
    "\n",
    "    #         num_columns = 4\n",
    "    #         cutout_width = 8\n",
    "    #         row_height = 2\n",
    "    #         num_rows = math.ceil(len(candidate_source.measurements)/num_columns)\n",
    "\n",
    "    #         num_rows = 2\n",
    "    #         row_height = 2\n",
    "    #         column_width = 2\n",
    "    #         cutout_height = num_rows*row_height\n",
    "    #         num_columns = math.ceil(len(candidate_source.measurements)/num_rows)\n",
    "    #         cutout_width = num_columns*column_width\n",
    "    #         cutout_height = row_height*num_rows\n",
    "\n",
    "    #         candidate_source.show_all_png_cutouts(columns=num_columns, figsize=(cutout_width, cutout_height), hide_epoch_labels=True, force=True)\n",
    "    #         plt.tight_layout()\n",
    "    #         plt.savefig('{}/{}_cutouts.png'.format(out_dir,source_name), dpi=100)\n",
    "    #         plt.close()\n",
    "    #         plt.clf()\n",
    "\n",
    "    #         candidate_source.show_all_png_cutouts(columns=num_columns, hide_epoch_labels=True, size=Angle(1*u.arcmin), figsize=(cutout_width, cutout_height), force=True)\n",
    "    #         plt.tight_layout()\n",
    "    #         plt.savefig('{}/{}_cutouts_zoom.png'.format(out_dir,source_name), dpi=100)\n",
    "    #         plt.close()\n",
    "    #         plt.clf()"
   ]
  },
  {
   "cell_type": "code",
   "execution_count": null,
   "metadata": {},
   "outputs": [],
   "source": [
    "def save_annotations(annotations, fname):\n",
    "    ann_df = pd.DataFrame(annotations).set_index('item')[['reason', 'label']]\n",
    "    ann_df.to_csv(fname)\n",
    "    \n",
    "def load_saved_annotations(fnames):\n",
    "    dfs = []\n",
    "    for fname in fnames:\n",
    "        dfs.append(pd.read_csv(fname, index_col='item'))\n",
    "    \n",
    "    return pd.concat(dfs)\n",
    "\n",
    "def filter_prev(classifications, source_df):\n",
    "    filtered_df = source_df.drop(index=classifications.index)\n",
    "    return filtered_df"
   ]
  },
  {
   "cell_type": "code",
   "execution_count": null,
   "metadata": {},
   "outputs": [],
   "source": [
    "prev_classifications = load_saved_annotations(['2022-01-24-classifications-0.csv','2022-01-24-classifications-1.csv'])\n",
    "filtered_df = filter_prev(prev_classifications, candidates)\n",
    "stage_1_annotations, _annotator = annotator.annotate_sources(filtered_df, ['artefact', 'no', 'unlikely', 'interesting', 'very interesting'], folder=out_dir)"
   ]
  },
  {
   "cell_type": "code",
   "execution_count": null,
   "metadata": {},
   "outputs": [],
   "source": [
    "df = load_saved_annotations(['2022-01-24-classifications-0.csv','2022-01-24-classifications-1.csv'])"
   ]
  },
  {
   "cell_type": "code",
   "execution_count": null,
   "metadata": {},
   "outputs": [],
   "source": [
    "r = requests.get('https://docs.google.com/spreadsheets/d/e/2PACX-1vTPTtxWq4mVNiM5eKL_98a53O6-gQteS7Ab7kdIUqtwxsThLIR7yh60kPTTiwbw0pE45mXoZUYeBCWA/pub?output=csv')\n",
    "df = pd.read_csv(BytesIO(r.content), index_col=0)\n",
    "interesting = df[(df.label.isin(['very interesting', 'interesting']))]\n",
    "interesting"
   ]
  },
  {
   "cell_type": "code",
   "execution_count": null,
   "metadata": {
    "scrolled": true,
    "tags": []
   },
   "outputs": [],
   "source": [
    "%matplotlib inline\n",
    "for idx, s in enumerate(interesting.index.values):\n",
    "    print(f'{idx+1}/{len(interesting.index.values)}')\n",
    "    new_df = df[df.index == s]\n",
    "    for i, row in new_df.iterrows():\n",
    "        event = row.event\n",
    "        event_time = name_to_time(event)\n",
    "        source = piperun.get_source(i)\n",
    "        a = source.plot_lightcurve(start_date=pd.Timestamp(event_time))\n",
    "        ax = a.gca()\n",
    "        ax.set_xscale('log')\n",
    "        ax.set_yscale('log')\n",
    "        ax.set_ylim(bottom=0.1)\n",
    "        plt.savefig(f'gw_lightcurves/{s}_{event}', dpi=100)"
   ]
  },
  {
   "cell_type": "code",
   "execution_count": null,
   "metadata": {},
   "outputs": [],
   "source": [
    "glade_columns = ['GLADE no',\n",
    " 'PGC no',\n",
    " 'GWGC name',\n",
    " 'HyperLEDA name',\n",
    " '2MASS name',\n",
    " 'WISExSCOS name',\n",
    " 'SDSS-DR16Q name',\n",
    " 'Object type flag',\n",
    " 'RA',\n",
    " 'Dec',\n",
    " 'B',\n",
    " 'B_err',\n",
    " 'B flag',\n",
    " 'B_Abs',\n",
    " 'J',\n",
    " 'J_err',\n",
    " 'H',\n",
    " 'H_err',\n",
    " 'K',\n",
    " 'K_err',\n",
    " 'W1',\n",
    " 'W1_err',\n",
    " 'W2',\n",
    " 'W2_err',\n",
    " 'W1 flag',\n",
    " 'B_J',\n",
    " 'B_J err',\n",
    " 'z_helio',\n",
    " 'z_cmb',\n",
    " 'z flag',\n",
    " 'v_err',\n",
    " 'z_err',\n",
    " 'd_L',\n",
    " 'd_L err',\n",
    " 'dist flag',\n",
    " 'M*',\n",
    " 'M*_err',\n",
    " 'Merger rate',\n",
    " 'Merger rate error']\n"
   ]
  },
  {
   "cell_type": "code",
   "execution_count": null,
   "metadata": {},
   "outputs": [],
   "source": [
    "coords1_sc = SkyCoord(ra=interesting['wavg_ra'], dec=interesting['wavg_dec'], unit=(u.deg, u.deg), frame='icrs')\n",
    "def crossmatch(chunk, max_sep, c2ra, c2dec):\n",
    "    matches = []\n",
    "\n",
    "    # Convert to astropy coordinates objects\n",
    "    coords2_sc = SkyCoord(ra=chunk[c2ra], dec=chunk[c2dec], unit=(u.deg, u.deg), frame='icrs')\n",
    "    \n",
    "    # Perform crossmatching\n",
    "    idxc, idxcatalog, d2d, _ = coords2_sc.search_around_sky(coords1_sc, max_sep)\n",
    "    \n",
    "    return (idxc, idxcatalog, d2d)"
   ]
  },
  {
   "cell_type": "code",
   "execution_count": null,
   "metadata": {
    "scrolled": true,
    "tags": []
   },
   "outputs": [],
   "source": [
    "usecols=[\n",
    "    'GLADE no',\n",
    "    'PGC no',\n",
    "    'GWGC name',\n",
    "    'HyperLEDA name',\n",
    "    '2MASS name',\n",
    "    'WISExSCOS name',\n",
    "    'SDSS-DR16Q name',\n",
    "    'RA',\n",
    "    'Dec',\n",
    "    'z_helio',\n",
    "    'z_cmb',\n",
    "    'z flag',\n",
    "    'z_err',\n",
    "    'd_L',\n",
    "]\n",
    "\n",
    "\n",
    "data = []\n",
    "with pd.read_csv('GLADE+.txt', sep=' ', chunksize=1000000, header=None, names=glade_columns, usecols=usecols, index_col='GLADE no') as f:\n",
    "    for idx, chunk in enumerate(f):\n",
    "        print(idx)\n",
    "        vast_match_idxs, chunk_match_idxs, d2d = crossmatch(chunk, 20*u.arcsec, 'RA', 'Dec')\n",
    "        if vast_match_idxs.size > 0:\n",
    "            x = list(zip(vast_match_idxs, chunk_match_idxs, d2d))\n",
    "            \n",
    "            for el in x:\n",
    "                res = [interesting.iloc[el[0]].name]\n",
    "                res += [chunk.iloc[el[1]].name]\n",
    "                res.extend(chunk.iloc[el[1]].values)\n",
    "                res += [el[2].value]\n",
    "                data.append(res)\n",
    "                print(res)"
   ]
  },
  {
   "cell_type": "code",
   "execution_count": null,
   "metadata": {},
   "outputs": [],
   "source": [
    "if not os.path.isfile('glade_matches.csv'):\n",
    "    cols = ['id']+usecols+['sep']\n",
    "    df = pd.DataFrame(data,columns=cols)\n",
    "    df.to_csv('glade_matches.csv', index=False)\n",
    "df = pd.read_csv('glade_matches.csv')"
   ]
  },
  {
   "cell_type": "code",
   "execution_count": null,
   "metadata": {},
   "outputs": [],
   "source": [
    "glade_ids = df['GLADE no'].values\n"
   ]
  },
  {
   "cell_type": "code",
   "execution_count": null,
   "metadata": {
    "scrolled": true,
    "tags": []
   },
   "outputs": [],
   "source": [
    "c=0\n",
    "z, o,t,th = 0, 0,0, 0\n",
    "t=0\n",
    "with open('GLADE+.txt', 'r') as f:\n",
    "    for idx, line in enumerate(f):\n",
    "        x = line.split()\n",
    "        if x[-6]=='null':\n",
    "            if x[-5] == '1':\n",
    "                o+=1\n",
    "            elif x[-5] == '2':\n",
    "                t += 1\n",
    "            elif x[-5] == '3':\n",
    "                th += 1\n",
    "            else:\n",
    "                z += 1\n",
    "            "
   ]
  },
  {
   "cell_type": "code",
   "execution_count": null,
   "metadata": {},
   "outputs": [],
   "source": [
    "plt.hist([0,1,2,3], weights=[z,o,t,th], bins=[-.5,0.5,1.5,2.5,3.5])\n"
   ]
  },
  {
   "cell_type": "code",
   "execution_count": null,
   "metadata": {},
   "outputs": [],
   "source": [
    "z,o,t,th"
   ]
  },
  {
   "cell_type": "code",
   "execution_count": null,
   "metadata": {},
   "outputs": [],
   "source": []
  }
 ],
 "metadata": {
  "kernelspec": {
   "display_name": "Python 3 (ipykernel)",
   "language": "python",
   "name": "python3"
  },
  "language_info": {
   "codemirror_mode": {
    "name": "ipython",
    "version": 3
   },
   "file_extension": ".py",
   "mimetype": "text/x-python",
   "name": "python",
   "nbconvert_exporter": "python",
   "pygments_lexer": "ipython3",
   "version": "3.9.5"
  }
 },
 "nbformat": 4,
 "nbformat_minor": 4
}
